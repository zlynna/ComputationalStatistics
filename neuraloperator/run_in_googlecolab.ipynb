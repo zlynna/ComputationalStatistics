{
 "cells": [
  {
   "cell_type": "code",
   "execution_count": null,
   "metadata": {},
   "outputs": [],
   "source": []
  }
 ],
 "metadata": {
  "kernelspec": {
   "display_name": "Python 3.8.5 ('base')",
   "language": "python",
   "name": "python3"
  },
  "language_info": {
   "name": "python",
   "version": "3.8.5"
  },
  "orig_nbformat": 4,
  "vscode": {
   "interpreter": {
    "hash": "1111a5604245eac0adec10da9522e8fd39d391468677d5cd53769557b2f8116c"
   }
  }
 },
 "nbformat": 4,
 "nbformat_minor": 2
}
